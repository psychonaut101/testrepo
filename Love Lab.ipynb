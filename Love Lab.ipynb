{
 "cells": [
  {
   "cell_type": "code",
   "execution_count": 1,
   "id": "900327a2-9dd7-4ba1-9535-2c57d5aa149b",
   "metadata": {},
   "outputs": [
    {
     "data": {
      "text/plain": [
       "2"
      ]
     },
     "execution_count": 1,
     "metadata": {},
     "output_type": "execute_result"
    }
   ],
   "source": [
    "1 + 1 "
   ]
  },
  {
   "cell_type": "markdown",
   "id": "e28bf40d-0281-4e35-9ed8-d2c2daa9945b",
   "metadata": {},
   "source": [
    "new_code = 2 + 2 "
   ]
  },
  {
   "cell_type": "code",
   "execution_count": 11,
   "id": "ef43e542-6f3a-4128-87b6-426a21824b6f",
   "metadata": {},
   "outputs": [
    {
     "data": {
      "text/plain": [
       "17"
      ]
     },
     "execution_count": 11,
     "metadata": {},
     "output_type": "execute_result"
    }
   ],
   "source": [
    "8+9"
   ]
  },
  {
   "cell_type": "code",
   "execution_count": 12,
   "id": "2086c251-666b-4b43-9dcb-113f4d1d56c9",
   "metadata": {},
   "outputs": [
    {
     "name": "stdout",
     "output_type": "stream",
     "text": [
      "4\n"
     ]
    }
   ],
   "source": [
    "print(new_code)"
   ]
  },
  {
   "cell_type": "markdown",
   "id": "9578d484-21b0-4019-a10f-be8ae2c86106",
   "metadata": {},
   "source": [
    "My Title"
   ]
  },
  {
   "cell_type": "markdown",
   "id": "ea0cb2b0-1419-46a2-a477-230ae5e5ed4d",
   "metadata": {},
   "source": []
  }
 ],
 "metadata": {
  "kernelspec": {
   "display_name": "Python 3 (ipykernel)",
   "language": "python",
   "name": "python3"
  },
  "language_info": {
   "codemirror_mode": {
    "name": "ipython",
    "version": 3
   },
   "file_extension": ".py",
   "mimetype": "text/x-python",
   "name": "python",
   "nbconvert_exporter": "python",
   "pygments_lexer": "ipython3",
   "version": "3.9.7"
  }
 },
 "nbformat": 4,
 "nbformat_minor": 5
}
